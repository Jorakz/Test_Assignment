{
 "cells": [
  {
   "cell_type": "markdown",
   "source": [
    "### Named Entity Recognition (NER) Dataset Analysis\n",
    "\n",
    "#### About the Dataset\n",
    "This dataset was **generated using ChatGPT** and contains **1000 tokenized sentences with 10 different classifications of animals in English**. The dataset is designed for **Named Entity Recognition (NER) tasks**, where the goal is to identify and classify animal names from text. \n",
    "\n",
    "The dataset includes:\n",
    "- Sentences mentioning different animals\n",
    "- Corresponding labeled entities for each animal\n",
    "\n",
    "#### Translation Mapping\n",
    "The dataset also includes a **translation dictionary** from **Italian to English**:\n",
    " "
   ],
   "metadata": {
    "collapsed": false
   },
   "id": "b81eb9c25fb08599"
  },
  {
   "cell_type": "code",
   "execution_count": 1,
   "id": "initial_id",
   "metadata": {
    "collapsed": true,
    "ExecuteTime": {
     "end_time": "2025-02-27T22:13:33.849507600Z",
     "start_time": "2025-02-27T22:13:33.841282Z"
    }
   },
   "outputs": [],
   "source": [
    "translate = {\n",
    "    \"cane\": \"dog\", \"cavallo\": \"horse\", \"elefante\": \"elephant\", \"farfalla\": \"butterfly\",\n",
    "    \"gallina\": \"chicken\", \"gatto\": \"cat\", \"mucca\": \"cow\", \"pecora\": \"sheep\", \"scoiattolo\": \"squirrel\",\n",
    "    \"ragno\": \"spider\"\n",
    "}"
   ]
  },
  {
   "cell_type": "markdown",
   "source": [
    "## **1. Load and Explore the Dataset**"
   ],
   "metadata": {
    "collapsed": false
   },
   "id": "b9d2b8b853b09687"
  },
  {
   "cell_type": "code",
   "execution_count": 2,
   "outputs": [
    {
     "name": "stdout",
     "output_type": "stream",
     "text": [
      "First 5 rows of dataset:\n"
     ]
    },
    {
     "data": {
      "text/plain": "                                              Tokens  \\\n0  ['A', 'chicken', 'is', 'an', 'important', 'ani...   \n1  ['I', 'heard', 'a', 'elephant', 'making', 'noi...   \n2  ['Many', 'farmers', 'keep', 'dog', 'on', 'thei...   \n3  ['A', 'horse', 'has', 'a', 'very', 'distinct',...   \n4  ['Some', 'people', 'are', 'afraid', 'of', 'cat...   \n\n                                              Labels  \n0  ['O', 'B-ANIMAL', 'O', 'O', 'O', 'O', 'O', 'O'...  \n1  ['O', 'O', 'O', 'B-ANIMAL', 'O', 'O', 'O', 'O'...  \n2         ['O', 'O', 'O', 'B-ANIMAL', 'O', 'O', 'O']  \n3  ['O', 'B-ANIMAL', 'O', 'O', 'O', 'O', 'O', 'O'...  \n4  ['O', 'O', 'O', 'O', 'O', 'B-ANIMAL', 'O', 'O'...  ",
      "text/html": "<div>\n<style scoped>\n    .dataframe tbody tr th:only-of-type {\n        vertical-align: middle;\n    }\n\n    .dataframe tbody tr th {\n        vertical-align: top;\n    }\n\n    .dataframe thead th {\n        text-align: right;\n    }\n</style>\n<table border=\"1\" class=\"dataframe\">\n  <thead>\n    <tr style=\"text-align: right;\">\n      <th></th>\n      <th>Tokens</th>\n      <th>Labels</th>\n    </tr>\n  </thead>\n  <tbody>\n    <tr>\n      <th>0</th>\n      <td>['A', 'chicken', 'is', 'an', 'important', 'ani...</td>\n      <td>['O', 'B-ANIMAL', 'O', 'O', 'O', 'O', 'O', 'O'...</td>\n    </tr>\n    <tr>\n      <th>1</th>\n      <td>['I', 'heard', 'a', 'elephant', 'making', 'noi...</td>\n      <td>['O', 'O', 'O', 'B-ANIMAL', 'O', 'O', 'O', 'O'...</td>\n    </tr>\n    <tr>\n      <th>2</th>\n      <td>['Many', 'farmers', 'keep', 'dog', 'on', 'thei...</td>\n      <td>['O', 'O', 'O', 'B-ANIMAL', 'O', 'O', 'O']</td>\n    </tr>\n    <tr>\n      <th>3</th>\n      <td>['A', 'horse', 'has', 'a', 'very', 'distinct',...</td>\n      <td>['O', 'B-ANIMAL', 'O', 'O', 'O', 'O', 'O', 'O'...</td>\n    </tr>\n    <tr>\n      <th>4</th>\n      <td>['Some', 'people', 'are', 'afraid', 'of', 'cat...</td>\n      <td>['O', 'O', 'O', 'O', 'O', 'B-ANIMAL', 'O', 'O'...</td>\n    </tr>\n  </tbody>\n</table>\n</div>"
     },
     "metadata": {},
     "output_type": "display_data"
    }
   ],
   "source": [
    "import pandas as pd\n",
    "import matplotlib.pyplot as plt\n",
    "import seaborn as sns\n",
    "\n",
    "# Load the dataset\n",
    "dataset_path = \"NER_data/NER_dataset.csv\"\n",
    "df = pd.read_csv(dataset_path)\n",
    "\n",
    "# Display first few rows\n",
    "print(\"First 5 rows of dataset:\")\n",
    "display(df.head())"
   ],
   "metadata": {
    "collapsed": false,
    "ExecuteTime": {
     "end_time": "2025-02-27T22:13:33.911192700Z",
     "start_time": "2025-02-27T22:13:33.850508600Z"
    }
   },
   "id": "23dc2e354dd6a6d6"
  },
  {
   "cell_type": "code",
   "execution_count": 5,
   "outputs": [
    {
     "name": "stdout",
     "output_type": "stream",
     "text": [
      "                                                Tokens  \\\n",
      "0    ['A', 'chicken', 'is', 'an', 'important', 'ani...   \n",
      "1    ['I', 'heard', 'a', 'elephant', 'making', 'noi...   \n",
      "2    ['Many', 'farmers', 'keep', 'dog', 'on', 'thei...   \n",
      "3    ['A', 'horse', 'has', 'a', 'very', 'distinct',...   \n",
      "4    ['Some', 'people', 'are', 'afraid', 'of', 'cat...   \n",
      "..                                                 ...   \n",
      "995  ['The', 'elephant', 'was', 'running', 'across'...   \n",
      "996  ['She', 'dreams', 'of', 'having', 'a', 'cat', ...   \n",
      "997  ['A', 'small', 'chicken', 'ran', 'across', 'th...   \n",
      "998  ['The', 'forest', 'is', 'home', 'to', 'many', ...   \n",
      "999  ['During', 'our', 'hike,', 'we', 'saw', 'a', '...   \n",
      "\n",
      "                                                Labels  \n",
      "0    ['O', 'B-ANIMAL', 'O', 'O', 'O', 'O', 'O', 'O'...  \n",
      "1    ['O', 'O', 'O', 'B-ANIMAL', 'O', 'O', 'O', 'O'...  \n",
      "2           ['O', 'O', 'O', 'B-ANIMAL', 'O', 'O', 'O']  \n",
      "3    ['O', 'B-ANIMAL', 'O', 'O', 'O', 'O', 'O', 'O'...  \n",
      "4    ['O', 'O', 'O', 'O', 'O', 'B-ANIMAL', 'O', 'O'...  \n",
      "..                                                 ...  \n",
      "995         ['O', 'B-ANIMAL', 'O', 'O', 'O', 'O', 'O']  \n",
      "996  ['O', 'O', 'O', 'O', 'O', 'B-ANIMAL', 'O', 'O'...  \n",
      "997  ['O', 'O', 'B-ANIMAL', 'O', 'O', 'O', 'O', 'O'...  \n",
      "998         ['O', 'O', 'O', 'O', 'O', 'O', 'B-ANIMAL']  \n",
      "999  ['O', 'O', 'O', 'O', 'O', 'O', 'B-ANIMAL', 'O'...  \n",
      "\n",
      "[1000 rows x 2 columns]\n"
     ]
    }
   ],
   "source": [
    "print(df)"
   ],
   "metadata": {
    "collapsed": false,
    "ExecuteTime": {
     "end_time": "2025-02-27T22:14:09.076124700Z",
     "start_time": "2025-02-27T22:14:09.042753700Z"
    }
   },
   "id": "a47c711a944c5ef3"
  },
  {
   "cell_type": "markdown",
   "source": [],
   "metadata": {
    "collapsed": false
   },
   "id": "c4e5039865a9fb7d"
  },
  {
   "cell_type": "markdown",
   "source": [],
   "metadata": {
    "collapsed": false
   },
   "id": "287944cc56a1a29"
  }
 ],
 "metadata": {
  "kernelspec": {
   "display_name": "Python 3",
   "language": "python",
   "name": "python3"
  },
  "language_info": {
   "codemirror_mode": {
    "name": "ipython",
    "version": 2
   },
   "file_extension": ".py",
   "mimetype": "text/x-python",
   "name": "python",
   "nbconvert_exporter": "python",
   "pygments_lexer": "ipython2",
   "version": "2.7.6"
  }
 },
 "nbformat": 4,
 "nbformat_minor": 5
}
