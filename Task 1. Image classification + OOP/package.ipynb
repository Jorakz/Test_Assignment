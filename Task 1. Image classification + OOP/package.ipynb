{
 "cells": [
  {
   "cell_type": "markdown",
   "id": "d45f0c2f-cf32-4c1e-9b9f-cc5e6d9c8b8a",
   "metadata": {},
   "source": [
    "# MNIST Dataset Analysis Demo\n",
    "\n",
    "This notebook demonstrates how to load the MNIST dataset, visualize sample images from both the training and test sets, and analyze the class distribution with counts for each digit."
   ]
  },
  {
   "cell_type": "code",
   "id": "af9e8d4c-7491-41ad-a3d5-5b5a2b87c2c1",
   "metadata": {},
   "source": [
    "from loading_dataset import load_mnist\n",
    "\n",
    "# Load the MNIST dataset\n",
    "X_train, y_train, X_test, y_test = load_mnist()\n",
    "\n",
    "print(f\"Training samples shape: {X_train.shape}\")\n",
    "print(f\"Training labels shape: {y_train.shape}\")\n",
    "print(f\"Test samples shape: {X_test.shape}\")\n",
    "print(f\"Test labels shape: {y_test.shape}\")"
   ],
   "execution_count": null,
   "outputs": []
  },
  {
   "cell_type": "code",
   "id": "f29bdb3e-f3b2-49dc-9ac4-0bdb5e5b1e87",
   "metadata": {},
   "source": [
    "import matplotlib.pyplot as plt\n",
    "\n",
    "def visualize_samples(X, y, dataset_name=\"Dataset\", num_samples=16):\n",
    "    \"\"\"\n",
    "    Visualizes a grid of sample images from the dataset.\n",
    "    \n",
    "    Parameters:\n",
    "      - X: Numpy array of images.\n",
    "      - y: Corresponding labels.\n",
    "      - dataset_name: Name of the dataset (used in the title).\n",
    "      - num_samples: Number of images to display (default 16).\n",
    "    \"\"\"\n",
    "    plt.figure(figsize=(8, 8))\n",
    "    for i in range(num_samples):\n",
    "        plt.subplot(4, 4, i + 1)\n",
    "        plt.imshow(X[i], cmap='gray')\n",
    "        plt.title(f\"Label: {y[i]}\")\n",
    "        plt.axis('off')\n",
    "    plt.suptitle(f\"{dataset_name} Sample Images\", fontsize=16)\n",
    "    plt.tight_layout()\n",
    "    plt.show()\n",
    "\n",
    "# Visualize samples from the training dataset\n",
    "visualize_samples(X_train, y_train, dataset_name=\"Training\")\n",
    "\n",
    "# Visualize samples from the test dataset\n",
    "visualize_samples(X_test, y_test, dataset_name=\"Test\")"
   ],
   "execution_count": null,
   "outputs": []
  },
  {
   "cell_type": "code",
   "id": "8c7769a5-2c4b-4f14-a5ed-c6e1e2ad3d2d",
   "metadata": {},
   "source": [
    "import numpy as np\n",
    "import seaborn as sns\n",
    "\n",
    "def plot_class_distribution(y, dataset_name=\"Dataset\"):\n",
    "    \"\"\"\n",
    "    Plots the distribution of class labels with count annotations for each class.\n",
    "    \n",
    "    Parameters:\n",
    "      - y: Numpy array of labels.\n",
    "      - dataset_name: Name of the dataset (used in the title).\n",
    "    \"\"\"\n",
    "    unique, counts = np.unique(y, return_counts=True)\n",
    "    plt.figure(figsize=(8, 6))\n",
    "    ax = sns.barplot(x=unique, y=counts, palette=\"viridis\")\n",
    "    plt.title(f\"{dataset_name} Class Distribution\")\n",
    "    plt.xlabel(\"Digit Label\")\n",
    "    plt.ylabel(\"Frequency\")\n",
    "    \n",
    "    # Annotate each bar with its count\n",
    "    for p in ax.patches:\n",
    "        height = p.get_height()\n",
    "        ax.annotate(f'{int(height)}',\n",
    "                    (p.get_x() + p.get_width() / 2., height),\n",
    "                    ha='center', va='bottom',\n",
    "                    xytext=(0, 5), textcoords='offset points')\n",
    "    plt.show()\n",
    "\n",
    "# Plot class distribution for training and test datasets\n",
    "plot_class_distribution(y_train, dataset_name=\"Training\")\n",
    "plot_class_distribution(y_test, dataset_name=\"Test\")"
   ],
   "execution_count": null,
   "outputs": []
  },
  {
   "cell_type": "markdown",
   "id": "24436f9b-6bde-4c1c-8e85-1d094d40e7f2",
   "metadata": {},
   "source": [
    "## Conclusion\n",
    "\n",
    "In this notebook, we have loaded the MNIST dataset, visualized sample images from both the training and test sets, and plotted the class distribution with counts for each digit. This analysis helps us understand the dataset before proceeding with training any classification models."
   ]
  }
 ],
 "metadata": {
  "kernelspec": {
   "display_name": "Python 3",
   "language": "python",
   "name": "python3"
  },
  "language_info": {
   "name": "python",
   "version": "3.x"
  }
 },
 "nbformat": 4,
 "nbformat_minor": 2
}
